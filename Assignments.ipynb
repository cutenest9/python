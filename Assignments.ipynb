{
 "cells": [
  {
   "cell_type": "code",
   "execution_count": 2,
   "metadata": {},
   "outputs": [
    {
     "name": "stdout",
     "output_type": "stream",
     "text": [
      "Enter Total number of people:30\n",
      "Number of seats for a bus:21\n",
      "Required buses are: 1\n"
     ]
    }
   ],
   "source": [
    "a=int(raw_input(\"Enter Total number of people:\"))\n",
    "b=int(raw_input(\"Number of seats for a bus:\"))\n",
    "c=a/b\n",
    "print \"Required buses are:\",c"
   ]
  },
  {
   "cell_type": "code",
   "execution_count": 11,
   "metadata": {},
   "outputs": [
    {
     "name": "stdout",
     "output_type": "stream",
     "text": [
      "Enter Tempurature in Fahrenheit:100\n",
      "Tempurature in celsius: 37.7777777778\n"
     ]
    }
   ],
   "source": [
    "f=float(raw_input(\"Enter Tempurature in Fahrenheit:\"))\n",
    "cs = (f - 32)*5/9\n",
    "print \"Tempurature in celsius:\",cs\n",
    "\n"
   ]
  },
  {
   "cell_type": "code",
   "execution_count": 13,
   "metadata": {},
   "outputs": [
    {
     "name": "stdout",
     "output_type": "stream",
     "text": [
      "Enter Tempurature in celsius:37.7777777778\n",
      "Tempurature in celsius: 100.0\n"
     ]
    }
   ],
   "source": [
    "c=float(raw_input(\"Enter Tempurature in celsius:\"))\n",
    "fh = (c * 9/5) + 32\n",
    "print \"Tempurature in celsius:\",fh"
   ]
  },
  {
   "cell_type": "code",
   "execution_count": 23,
   "metadata": {},
   "outputs": [],
   "source": [
    "import math"
   ]
  },
  {
   "cell_type": "code",
   "execution_count": null,
   "metadata": {},
   "outputs": [],
   "source": [
    "a=int(raw_input(\"Enter first number:\"))\n",
    "b=int(raw_input(\"Enter first number:\"))\n",
    "c=int(raw_input(\"Enter first number:\"))\n",
    "d=int(raw_input(\"Enter first number:\"))\n",
    "ab=(a+b)**2\n",
    "bc=(c+d)**2\n",
    "avg=((float(a)+float(b)+float(c)+float(d))/4)\n",
    "sum=(a+b+c+d)\n",
    "print (\"The Result of (a+b)**2 is:\"),ab\n",
    "print (\"The Result of (c+d)**2 is:\"),bc\n",
    "print (\"Average of 4 numbers are:%.1f\")%avg\n",
    "print (\"Average of 4 numbers are:\"),sum"
   ]
  },
  {
   "cell_type": "code",
   "execution_count": 27,
   "metadata": {},
   "outputs": [
    {
     "name": "stdout",
     "output_type": "stream",
     "text": [
      "Enter the distance in km:4\n",
      "Distance in Milli Meters: 13123.36\n"
     ]
    }
   ],
   "source": [
    "a=float((raw_input(\"Enter the distance in km:\")))\n",
    "c=a*3280.84\n",
    "print (\"Distance in feets:\"),c"
   ]
  },
  {
   "cell_type": "code",
   "execution_count": 35,
   "metadata": {},
   "outputs": [
    {
     "name": "stdout",
     "output_type": "stream",
     "text": [
      "Enter the hard disk size in GBs:15\n",
      "The size of hard dis in KBs: 16492674416640\n"
     ]
    }
   ],
   "source": [
    "a=int(raw_input(\"Enter the hard disk size in GBs:\"))\n",
    "k=a*1024*1024*1024*1024\n",
    "print \"The size of hard dis in KBs:\",k"
   ]
  },
  {
   "cell_type": "code",
   "execution_count": 36,
   "metadata": {},
   "outputs": [
    {
     "name": "stdout",
     "output_type": "stream",
     "text": [
      "Enter the hard disk size in GBs:16492674416640\n",
      "The size of hard dis in KBs: 15\n"
     ]
    }
   ],
   "source": [
    "a=int(raw_input(\"Enter the hard disk size in GBs:\"))\n",
    "k=a/1024/1024/1024/1024\n",
    "print \"The size of hard dis in KBs:\",k"
   ]
  },
  {
   "cell_type": "code",
   "execution_count": 86,
   "metadata": {},
   "outputs": [
    {
     "name": "stdout",
     "output_type": "stream",
     "text": [
      "Enter the name of the person:satya\n",
      "Enter the age of the person:38\n",
      "Enter the height of the person:5.8\n",
      "The details of the person: Name:satya , Age:38 , Height:5.8\n"
     ]
    }
   ],
   "source": [
    "name=raw_input(\"Enter the name of the person:\")\n",
    "age=raw_input(\"Enter the age of the person:\")\n",
    "height=float(raw_input(\"Enter the height of the person:\"))\n",
    "print \"The details of the person: Name:%s , Age:%s , Height:%.1f\" %(name , age , height)\n",
    "\n"
   ]
  },
  {
   "cell_type": "code",
   "execution_count": 87,
   "metadata": {},
   "outputs": [
    {
     "name": "stdout",
     "output_type": "stream",
     "text": [
      "name:Jayaram , age:1.6 , height:3.535623 , weight:10.343857\n"
     ]
    }
   ],
   "source": [
    "name=\"Jayaram\"\n",
    "age=1.6\n",
    "height=3.5356234\n",
    "weight=10.343856783\n",
    "print \"name:%s , age:%s , height:%f , weight:%f\" %(name , age , height , weight)\n"
   ]
  },
  {
   "cell_type": "code",
   "execution_count": 91,
   "metadata": {},
   "outputs": [
    {
     "name": "stdout",
     "output_type": "stream",
     "text": [
      "Enter the your height in feets:5.9\n",
      "Enter your age:75\n",
      "Converting height in cms\n",
      "Height in cm: 179.832\n",
      "Converting height in to meters:\n",
      "Your height in meters: 79.832\n",
      "The BIM value is : 75.0\n"
     ]
    }
   ],
   "source": [
    "height=float(raw_input(\"Enter the your height in cms:\"))\n",
    "age=int(raw_input(\"Enter your weight:\"))\n",
    "\n",
    "\n",
    "mm=height%100\n",
    "print \"Your height in meters:\",mm\n",
    "BIM=age%(mm*mm)\n",
    "print \"The BIM value is :\",BIM"
   ]
  },
  {
   "cell_type": "code",
   "execution_count": 98,
   "metadata": {},
   "outputs": [
    {
     "name": "stdout",
     "output_type": "stream",
     "text": [
      "Enter your name in lower case:satya\n",
      "print your name in upper case:SATYA\n"
     ]
    }
   ],
   "source": [
    "name=raw_input(\"Enter your name in lower case:\")\n",
    "print \"Your name in upper case:%s\" %(name.upper())"
   ]
  },
  {
   "cell_type": "code",
   "execution_count": 100,
   "metadata": {},
   "outputs": [
    {
     "name": "stdout",
     "output_type": "stream",
     "text": [
      "Enter your name in upper case:satya\n",
      "Your name in upper case:satya\n"
     ]
    }
   ],
   "source": [
    "name=raw_input(\"Enter your name in upper case:\")\n",
    "print \"Your name in upper case:%s\" %(name.lower())"
   ]
  },
  {
   "cell_type": "code",
   "execution_count": 103,
   "metadata": {},
   "outputs": [
    {
     "name": "stdout",
     "output_type": "stream",
     "text": [
      "Enter the number of people:200\n",
      "Enter the number of buses:4\n",
      "Enter the number of seats for a bus:31\n",
      "There is no suffcient buses there more buses required\n",
      "Thank you\n"
     ]
    }
   ],
   "source": [
    "np=int(raw_input(\"Enter the number of people:\"))\n",
    "nb=int(raw_input(\"Enter the number of buses:\"))\n",
    "ns=int(raw_input(\"Enter the number of seats for a bus:\"))\n",
    "a=np/ns\n",
    "if a>nb:\n",
    "    print \"There is no suffcient buses there more buses required\"\n",
    "else:\n",
    "    print \"There is suffcient buses available no more buses required\"\n",
    "print \"Thank you\""
   ]
  },
  {
   "cell_type": "code",
   "execution_count": 109,
   "metadata": {},
   "outputs": [
    {
     "name": "stdout",
     "output_type": "stream",
     "text": [
      "Enter a number:12\n",
      "The given number is even number\n"
     ]
    }
   ],
   "source": [
    "a=int(raw_input(\"Enter a number:\"))\n",
    "b=a%2\n",
    "if b==0:\n",
    "    print \"The given number is even number\"\n",
    "else:\n",
    "    print \"The given number is odd number\"\n"
   ]
  },
  {
   "cell_type": "code",
   "execution_count": 112,
   "metadata": {},
   "outputs": [
    {
     "name": "stdout",
     "output_type": "stream",
     "text": [
      "Enter a number:-2\n",
      "The given number is negative number\n"
     ]
    }
   ],
   "source": [
    "a=int(raw_input(\"Enter a number:\"))\n",
    "if a>0:\n",
    "    print \"The given number is a possitive number\"\n",
    "else:\n",
    "    print \"The given number is negative number\""
   ]
  },
  {
   "cell_type": "code",
   "execution_count": 117,
   "metadata": {},
   "outputs": [
    {
     "name": "stdout",
     "output_type": "stream",
     "text": [
      "Enter any string:\n",
      "You have entered a invalid string\n"
     ]
    }
   ],
   "source": [
    "a=raw_input(\"Enter any string:\")\n",
    "b=len(a)\n",
    "if b!=0:\n",
    "    print \"The given string is:\",a\n",
    "else:\n",
    "    print \"You have entered a invalid string\""
   ]
  },
  {
   "cell_type": "markdown",
   "metadata": {},
   "source": [
    "import math"
   ]
  },
  {
   "cell_type": "code",
   "execution_count": 153,
   "metadata": {},
   "outputs": [
    {
     "name": "stdout",
     "output_type": "stream",
     "text": [
      " 1. add \n",
      " 2. sub \n",
      " 3. mul \n",
      " 4. div \n",
      " 5. quit\n",
      "Enter first number:2\n",
      "Enter second number:3\n",
      "Enter a value to perform the activity:3\n",
      "The multiplication of two numbers 6\n"
     ]
    }
   ],
   "source": [
    "print (\" 1. add \\n 2. sub \\n 3. mul \\n 4. div \\n 5. quit\")\n",
    "a=int(raw_input(\"Enter first number:\"))\n",
    "b=int(raw_input(\"Enter second number:\"))\n",
    "c=int(raw_input(\"Enter a value to perform the activity:\"))\n",
    "if c==1:\n",
    "    print\"The addition of two numbers:\",a+b\n",
    "elif c==2:\n",
    "    print\"The subtraction of two numbers:\",a-b\n",
    "elif c==3:\n",
    "    print\"The multiplication of two numbers\",a*b\n",
    "elif c==4:\n",
    "    print\"The divition of two numbers:\", a/b\n",
    "elif c==5:\n",
    "    print\"quit\""
   ]
  },
  {
   "cell_type": "code",
   "execution_count": 156,
   "metadata": {},
   "outputs": [
    {
     "name": "stdout",
     "output_type": "stream",
     "text": [
      " 1. Kids \n",
      " 2. Men's \n",
      " 3. Women' \n",
      "Select the number to show the section:4\n",
      "You have entered invalid selection\n"
     ]
    }
   ],
   "source": [
    "print (\" 1. Kid's \\n 2. Men's \\n 3. Women's \")\n",
    "c=int(raw_input(\"Select the number to show the section:\"))\n",
    "if c==1:\n",
    "    print\"This is Kids section:\"\n",
    "elif c==2:\n",
    "    print\"This is Men's section:\"\n",
    "elif c==3:\n",
    "    print\"This is Women's section\"\n",
    "else:\n",
    "    print\"You have entered invalid selection\"\n"
   ]
  },
  {
   "cell_type": "code",
   "execution_count": null,
   "metadata": {},
   "outputs": [],
   "source": []
  },
  {
   "cell_type": "code",
   "execution_count": 168,
   "metadata": {},
   "outputs": [
    {
     "name": "stdout",
     "output_type": "stream",
     "text": [
      "Enter the sentense: pure milk\n",
      "The string is there in given sentence\n"
     ]
    }
   ],
   "source": [
    "a=raw_input(\"Enter the sentense: \")\n",
    "if 'pure' in a:\n",
    "    print \"The string is there in given sentence\"\n",
    "else:\n",
    "    print \"The string is not there in given sentence\""
   ]
  },
  {
   "cell_type": "code",
   "execution_count": 173,
   "metadata": {},
   "outputs": [
    {
     "name": "stdout",
     "output_type": "stream",
     "text": [
      "Enter first number:3\n",
      "Enter Secund number:5\n",
      "Enter Third number:3\n",
      "Big number is: 5\n"
     ]
    }
   ],
   "source": [
    "a=int(raw_input(\"Enter first number:\"))\n",
    "b=int(raw_input(\"Enter Secund number:\"))\n",
    "c=int(raw_input(\"Enter Third number:\"))\n",
    "if a>b and a>c:\n",
    "    print \"Big number is: \",a\n",
    "elif b>a and b>c:\n",
    "    print \"Big number is:\",b\n",
    "elif c>a and c>b:\n",
    "    print \"Bing number is:\",c\n"
   ]
  },
  {
   "cell_type": "code",
   "execution_count": 177,
   "metadata": {},
   "outputs": [
    {
     "name": "stdout",
     "output_type": "stream",
     "text": [
      "Please enter gender:female\n",
      "Please enter your age:18\n",
      "Your eligible for merrage\n"
     ]
    }
   ],
   "source": [
    "gender=raw_input(\"Please enter gender:\")\n",
    "age=int(raw_input(\"Please enter your age:\")) \n",
    "if gender=='female' and age>=18:\n",
    "    print \"Your eligible for merrage\"\n",
    "elif gender=='male' and age>=24:\n",
    "    print \"Print your eligible for merrage\"\n",
    "else:\n",
    "    print \"Your not eligible for merrage\""
   ]
  },
  {
   "cell_type": "code",
   "execution_count": 184,
   "metadata": {},
   "outputs": [
    {
     "name": "stdout",
     "output_type": "stream",
     "text": [
      "Enter a value:4\n",
      "Enter b value:2\n",
      "A is divisable by b\n"
     ]
    }
   ],
   "source": [
    "a=int(raw_input(\"Enter a value:\"))\n",
    "b=int(raw_input(\"Enter b value:\"))\n",
    "c=a/b\n",
    "if c!=0:\n",
    "    print \"A is divisable by b\"\n",
    "else:\n",
    "    print \"A is not divisable by b\""
   ]
  },
  {
   "cell_type": "code",
   "execution_count": 199,
   "metadata": {},
   "outputs": [
    {
     "name": "stdout",
     "output_type": "stream",
     "text": [
      "Enter the string:satya23243323\n",
      "Given string contains 8 digits\n"
     ]
    }
   ],
   "source": [
    "name=raw_input(\"Enter the string:\")\n",
    "count=0\n",
    "t=list(name)\n",
    "for i in t:\n",
    "    if i.isdigit():\n",
    "        count=count+1\n",
    "if count==0:\n",
    "    print \"Given string contains no digits\"\n",
    "else:\n",
    "    print \"Given string contains %s digits\"%(count)\n"
   ]
  },
  {
   "cell_type": "code",
   "execution_count": 232,
   "metadata": {},
   "outputs": [
    {
     "name": "stdout",
     "output_type": "stream",
     "text": [
      "Enter the string:satya$234@#$\n",
      "Given string contain 4 special charectors and those are: $@#$\n"
     ]
    }
   ],
   "source": [
    "name=raw_input(\"Enter the string:\")\n",
    "sp=\"!@#$%()^&*\"\n",
    "d=0\n",
    "c=0\n",
    "e=str(\"\")\n",
    "s=list(sp)\n",
    "t=list(name)\n",
    "l=len(name)\n",
    "for i in t:\n",
    "    if i.isdigit():\n",
    "        d=d+1\n",
    "    else:\n",
    "        for j in s:\n",
    "            if i==j:\n",
    "                c=c+1\n",
    "                e=e+j\n",
    "print \"Given string contain %s special charectors and those are: %s\"%(c,e)\n"
   ]
  },
  {
   "cell_type": "code",
   "execution_count": 235,
   "metadata": {},
   "outputs": [
    {
     "name": "stdout",
     "output_type": "stream",
     "text": [
      "Enter a stringsatyaAR\n",
      "Given String contain capital 2 letters and those are:AR\n"
     ]
    }
   ],
   "source": [
    "name=raw_input(\"Enter a string\")\n",
    "c=0\n",
    "ch=str(\"\")\n",
    "l=list(name)\n",
    "for i in l:\n",
    "    s=i.upper()\n",
    "    if s==i:\n",
    "      c=c+1\n",
    "      ch=ch+i\n",
    "print(\"Given String contain capital %s letters and those are:%s\"%(c,ch))\n",
    "     \n"
   ]
  },
  {
   "cell_type": "code",
   "execution_count": 236,
   "metadata": {},
   "outputs": [
    {
     "name": "stdout",
     "output_type": "stream",
     "text": [
      "Enter a stringsatyaERT\n",
      "Given String contain lower case 5 letters and those are:satya\n"
     ]
    }
   ],
   "source": [
    "name=raw_input(\"Enter a string\")\n",
    "c=0\n",
    "ch=str(\"\")\n",
    "l=list(name)\n",
    "for i in l:\n",
    "    s=i.lower()\n",
    "    if s==i:\n",
    "      c=c+1\n",
    "      ch=ch+i\n",
    "print(\"Given String contain lower case %s letters and those are:%s\"%(c,ch))"
   ]
  },
  {
   "cell_type": "code",
   "execution_count": 262,
   "metadata": {},
   "outputs": [
    {
     "name": "stdout",
     "output_type": "stream",
     "text": [
      "98\n"
     ]
    }
   ],
   "source": [
    "a='B'\n",
    "print ord(a)+32"
   ]
  },
  {
   "cell_type": "code",
   "execution_count": 312,
   "metadata": {},
   "outputs": [
    {
     "name": "stdout",
     "output_type": "stream",
     "text": [
      "Enter the stringsatya\n",
      "The upper case of given string is: SATYA\n"
     ]
    }
   ],
   "source": [
    "name=raw_input(\"Enter the string\")\n",
    "cn=str(\"\")\n",
    "l=list(name)\n",
    "for i in l:\n",
    "    c=ord(i)\n",
    "    s=chr(c-32)\n",
    "    cn=cn+s\n",
    "print \"The upper case of given string is:\",cn\n",
    "    "
   ]
  },
  {
   "cell_type": "code",
   "execution_count": 313,
   "metadata": {},
   "outputs": [
    {
     "name": "stdout",
     "output_type": "stream",
     "text": [
      "Enter the stringSATYA\n",
      "The upper case of given string is: satya\n"
     ]
    }
   ],
   "source": [
    "name=raw_input(\"Enter the string\")\n",
    "cn=str(\"\")\n",
    "l=list(name)\n",
    "for i in l:\n",
    "    c=ord(i)\n",
    "    s=chr(c+32)\n",
    "    cn=cn+s\n",
    "print \"The upper case of given string is:\",cn"
   ]
  },
  {
   "cell_type": "code",
   "execution_count": null,
   "metadata": {},
   "outputs": [],
   "source": []
  }
 ],
 "metadata": {
  "kernelspec": {
   "display_name": "Python 2",
   "language": "python",
   "name": "python2"
  },
  "language_info": {
   "codemirror_mode": {
    "name": "ipython",
    "version": 2
   },
   "file_extension": ".py",
   "mimetype": "text/x-python",
   "name": "python",
   "nbconvert_exporter": "python",
   "pygments_lexer": "ipython2",
   "version": "2.7.15"
  }
 },
 "nbformat": 4,
 "nbformat_minor": 2
}
