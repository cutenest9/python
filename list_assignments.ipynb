{
 "cells": [
  {
   "cell_type": "code",
   "execution_count": 62,
   "metadata": {},
   "outputs": [
    {
     "name": "stdout",
     "output_type": "stream",
     "text": [
      "[10, 20, 30, 40, 50, 60, 70, 80, 90, 20]\n"
     ]
    }
   ],
   "source": [
    "l=[10,20,30,[40,50,60],70,[80,90,20]]\n",
    "k=[]\n",
    "for i in l:\n",
    "    if type(i)==list:\n",
    "        for j in i:\n",
    "            k.append(j)\n",
    "    else: \n",
    "        k.append(i)\n",
    "print k"
   ]
  },
  {
   "cell_type": "code",
   "execution_count": 116,
   "metadata": {},
   "outputs": [
    {
     "name": "stdout",
     "output_type": "stream",
     "text": [
      "G 1\n",
      "o 2\n",
      "o 2\n",
      "g 1\n",
      "l 1\n",
      "e 1\n"
     ]
    }
   ],
   "source": [
    "s=\"Google\"\n",
    "for i in s:\n",
    "    print i,s.count(i)\n",
    "    \n"
   ]
  },
  {
   "cell_type": "code",
   "execution_count": 144,
   "metadata": {},
   "outputs": [
    {
     "name": "stdout",
     "output_type": "stream",
     "text": [
      "[10] [20] [30] [40] [50] [60] [70] [80] [90] [20]\n"
     ]
    }
   ],
   "source": [
    "l=[10, 20, 30, 40, 50, 60, 70, 80, 90, 20]\n",
    "for i in l:\n",
    "    print [i],\n",
    "    \n",
    "    \n",
    "\n"
   ]
  },
  {
   "cell_type": "code",
   "execution_count": 145,
   "metadata": {},
   "outputs": [
    {
     "name": "stdout",
     "output_type": "stream",
     "text": [
      "[1, 2, 3]\n"
     ]
    }
   ],
   "source": [
    "l=[1,2,3] \n",
    "print str(l)"
   ]
  },
  {
   "cell_type": "code",
   "execution_count": 149,
   "metadata": {},
   "outputs": [
    {
     "name": "stdout",
     "output_type": "stream",
     "text": [
      "[1] [2] [3] [4] [5] [6] [7] [8] [9] [10]\n"
     ]
    }
   ],
   "source": [
    "l=[1,2,3,[4,5,6],7,[8,9,10]]\n",
    "k=[]\n",
    "for i in l:\n",
    "    if type(i)==list:\n",
    "        for j in i:\n",
    "            k.append(j)\n",
    "    else:\n",
    "        k.append(i)\n",
    "for i in k:\n",
    "    print [i],\n",
    "        "
   ]
  },
  {
   "cell_type": "code",
   "execution_count": 160,
   "metadata": {},
   "outputs": [
    {
     "name": "stdout",
     "output_type": "stream",
     "text": [
      "Total upper letters in the sentance:4\n"
     ]
    }
   ],
   "source": [
    "l=['a','A','b','B','d','D','c','C']\n",
    "n=0\n",
    "for i in l:\n",
    "    if i.isupper():\n",
    "        n=n+1\n",
    "print \"Total upper letters in the sentance:%d\"%n\n",
    "        "
   ]
  },
  {
   "cell_type": "code",
   "execution_count": 169,
   "metadata": {},
   "outputs": [
    {
     "name": "stdout",
     "output_type": "stream",
     "text": [
      "['A', 'B', 'C', 'D', 'a', 'b', 'c', 'd']\n"
     ]
    }
   ],
   "source": [
    "l=['a','A','b','B','d','D','c','C']  \n",
    "l.sort()\n",
    "print l\n",
    "    "
   ]
  },
  {
   "cell_type": "code",
   "execution_count": 205,
   "metadata": {},
   "outputs": [
    {
     "name": "stdout",
     "output_type": "stream",
     "text": [
      "[3, 4, 7, 5]\n"
     ]
    }
   ],
   "source": [
    "l=[78,2,3,4,56,7,76,8,5]\n",
    "m=[3,4,7,34,89,23,5]\n",
    "k=[]\n",
    "for i in l:\n",
    "    for j in m:\n",
    "        if i==j:\n",
    "            k.append(i)\n",
    "print k"
   ]
  },
  {
   "cell_type": "code",
   "execution_count": 209,
   "metadata": {},
   "outputs": [
    {
     "name": "stdout",
     "output_type": "stream",
     "text": [
      "union of to list: [78, 2, 3, 4, 56, 7, 76, 8, 5, 3, 4, 7, 34, 89, 23, 5]\n",
      "Intersection of to list: [3, 4, 7, 5]\n"
     ]
    }
   ],
   "source": [
    "l=[78,2,3,4,56,7,76,8,5]\n",
    "m=[3,4,7,34,89,23,5]\n",
    "k=[]\n",
    "for i in l:\n",
    "    for j in m:\n",
    "        if i==j:\n",
    "            k.append(i)\n",
    "for j in m:\n",
    "    l.append(j)\n",
    "print \"union of to list:\",l    \n",
    "print \"Intersection of to list:\",k"
   ]
  },
  {
   "cell_type": "code",
   "execution_count": 291,
   "metadata": {},
   "outputs": [
    {
     "name": "stdout",
     "output_type": "stream",
     "text": [
      "[1, 2, 3, 4, 3, 2, 1]\n"
     ]
    }
   ],
   "source": [
    "def fun(a):\n",
    "    k=[]\n",
    "    n=1\n",
    "    while n<a:\n",
    "        k.append(n)\n",
    "        n=n+1             \n",
    "    for i in k[::-1]:\n",
    "        if (i-1)!=0:\n",
    "            k.append(i-1)\n",
    "    print k        \n",
    "fun(5)   \n",
    "    "
   ]
  },
  {
   "cell_type": "code",
   "execution_count": 313,
   "metadata": {},
   "outputs": [
    {
     "name": "stdout",
     "output_type": "stream",
     "text": [
      "5\n",
      "[[...], 'a', 'b', 'c', 'abc']\n"
     ]
    }
   ],
   "source": [
    "def fun(a):\n",
    "    l=[]\n",
    "    \n",
    "    for i in a:\n",
    "        l.append(i)\n",
    "    l.append(a)\n",
    "    print j\n",
    "    print l\n",
    "\n",
    "\n",
    "fun('abc')"
   ]
  },
  {
   "cell_type": "code",
   "execution_count": 346,
   "metadata": {},
   "outputs": [
    {
     "name": "stdout",
     "output_type": "stream",
     "text": [
      "1\n",
      "1\n",
      "3\n",
      "3\n",
      "3\n",
      "3\n",
      "1\n",
      "3\n",
      "4\n",
      "4\n",
      "[2, 2, 1, 3, 4]\n"
     ]
    }
   ],
   "source": [
    "a=[1,2,3,2,3,4,1,3,4]\n",
    "for i in a:\n",
    "    print i\n",
    "    if 1<a.count(i):       \n",
    "        a.remove(i)\n",
    "        print i\n",
    "print a       "
   ]
  },
  {
   "cell_type": "code",
   "execution_count": 376,
   "metadata": {},
   "outputs": [
    {
     "name": "stdout",
     "output_type": "stream",
     "text": [
      "[20, 20, 1, 3, 4, 8]\n"
     ]
    }
   ],
   "source": [
    "a=[1,20,3,20,3,4,1,3,4,8]\n",
    "for i in a:\n",
    "    while a.count(i)>1:    \n",
    "        a.remove(i)\n",
    "print a"
   ]
  },
  {
   "cell_type": "code",
   "execution_count": 383,
   "metadata": {},
   "outputs": [
    {
     "name": "stdout",
     "output_type": "stream",
     "text": [
      "69\n"
     ]
    }
   ],
   "source": [
    "a=[1,2,3,10,33,2]\n",
    "b=[3,4,5,6]\n",
    "for i in b:\n",
    "    a.append(i)\n",
    "l=0\n",
    "for i in a:\n",
    "    l=l+i\n",
    "print l"
   ]
  },
  {
   "cell_type": "code",
   "execution_count": 384,
   "metadata": {},
   "outputs": [
    {
     "name": "stdout",
     "output_type": "stream",
     "text": [
      "51\n"
     ]
    }
   ],
   "source": [
    "a=[1,2,3,10,33,2]\n",
    "l=0\n",
    "for i in a:\n",
    "    l=l+i\n",
    "print l\n"
   ]
  },
  {
   "cell_type": "code",
   "execution_count": 402,
   "metadata": {},
   "outputs": [
    {
     "name": "stdout",
     "output_type": "stream",
     "text": [
      "10\n"
     ]
    }
   ],
   "source": [
    "a=[1,2,3,10,33,58,2]\n",
    "n=1\n",
    "while n<3:\n",
    "    l=max(a)\n",
    "    a.remove(l)\n",
    "    n=n+1\n",
    "print max(a)\n"
   ]
  },
  {
   "cell_type": "code",
   "execution_count": 390,
   "metadata": {},
   "outputs": [
    {
     "name": "stdout",
     "output_type": "stream",
     "text": [
      "[1, 2, 3, 10, 2]\n"
     ]
    }
   ],
   "source": [
    "a=[1,2,3,10,33,2]\n",
    "l=max(a)\n",
    "a.remove(l)\n",
    "print a"
   ]
  },
  {
   "cell_type": "code",
   "execution_count": 444,
   "metadata": {},
   "outputs": [
    {
     "ename": "IndexError",
     "evalue": "list index out of range",
     "output_type": "error",
     "traceback": [
      "\u001b[1;31m\u001b[0m",
      "\u001b[1;31mIndexError\u001b[0mTraceback (most recent call last)",
      "\u001b[1;32m<ipython-input-444-ecceaa8793ce>\u001b[0m in \u001b[0;36m<module>\u001b[1;34m()\u001b[0m\n\u001b[0;32m      5\u001b[0m \u001b[0mb\u001b[0m\u001b[1;33m=\u001b[0m\u001b[1;36m1\u001b[0m\u001b[1;33m\u001b[0m\u001b[0m\n\u001b[0;32m      6\u001b[0m \u001b[1;32mfor\u001b[0m \u001b[0mi\u001b[0m \u001b[1;32min\u001b[0m \u001b[0ml\u001b[0m\u001b[1;33m:\u001b[0m\u001b[1;33m\u001b[0m\u001b[0m\n\u001b[1;32m----> 7\u001b[1;33m     \u001b[1;32mif\u001b[0m \u001b[1;33m(\u001b[0m\u001b[0ml\u001b[0m\u001b[1;33m[\u001b[0m\u001b[0ma\u001b[0m\u001b[1;33m]\u001b[0m\u001b[1;33m-\u001b[0m\u001b[0ml\u001b[0m\u001b[1;33m[\u001b[0m\u001b[0mb\u001b[0m\u001b[1;33m]\u001b[0m\u001b[1;33m)\u001b[0m\u001b[1;33m!=\u001b[0m\u001b[1;33m-\u001b[0m\u001b[1;36m1\u001b[0m\u001b[1;33m:\u001b[0m\u001b[1;33m\u001b[0m\u001b[0m\n\u001b[0m\u001b[0;32m      8\u001b[0m         \u001b[0ms\u001b[0m\u001b[1;33m.\u001b[0m\u001b[0mappend\u001b[0m\u001b[1;33m(\u001b[0m\u001b[0mi\u001b[0m\u001b[1;33m)\u001b[0m\u001b[1;33m\u001b[0m\u001b[0m\n\u001b[0;32m      9\u001b[0m         \u001b[0ma\u001b[0m\u001b[1;33m=\u001b[0m\u001b[0ma\u001b[0m\u001b[1;33m+\u001b[0m\u001b[1;36m1\u001b[0m\u001b[1;33m\u001b[0m\u001b[0m\n",
      "\u001b[1;31mIndexError\u001b[0m: list index out of range"
     ]
    }
   ],
   "source": [
    "l=[1,2,3,5,7,8,9,10,11,12,13,20,22,23,24,25,26,27,20,21,22,4] \n",
    "k=[]\n",
    "s=[]\n",
    "a=0\n",
    "b=1\n",
    "for i in l:\n",
    "    if (l[a]-l[b])!=-1:\n",
    "        s.append(i)\n",
    "        a=a+1\n",
    "        b=b+1\n",
    "    else:\n",
    "        k.append(s)\n",
    "        a=a+1\n",
    "        b=b+1\n",
    "        s=[]\n",
    "print s\n",
    "print k\n",
    "    \n",
    "    \n",
    "    \n",
    "    "
   ]
  },
  {
   "cell_type": "code",
   "execution_count": null,
   "metadata": {},
   "outputs": [],
   "source": []
  }
 ],
 "metadata": {
  "kernelspec": {
   "display_name": "Python 2",
   "language": "python",
   "name": "python2"
  },
  "language_info": {
   "codemirror_mode": {
    "name": "ipython",
    "version": 2
   },
   "file_extension": ".py",
   "mimetype": "text/x-python",
   "name": "python",
   "nbconvert_exporter": "python",
   "pygments_lexer": "ipython2",
   "version": "2.7.15"
  }
 },
 "nbformat": 4,
 "nbformat_minor": 2
}
